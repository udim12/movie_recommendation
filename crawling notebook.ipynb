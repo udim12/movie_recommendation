{
 "cells": [
  {
   "cell_type": "code",
   "execution_count": null,
   "metadata": {
    "collapsed": true
   },
   "outputs": [],
   "source": [
    "from selenium import webdriver\n",
    "from selenium.webdriver.support.wait import WebDriverWait\n",
    "from selenium.webdriver.common.by import By\n",
    "from selenium.webdriver.support import expected_conditions as EC\n",
    "import time\n",
    "import pandas as pd\n",
    "import json\n",
    "import bs4\n",
    "import requests as req\n",
    "import statistics as st\n",
    "import operator\n",
    "from selenium.webdriver.common.keys import Keys\n",
    "from selenium.webdriver.chrome.options import Options as CromeOptions\n",
    "import pickle\n"
   ]
  },
  {
   "cell_type": "markdown",
   "source": [
    "utility functions:"
   ],
   "metadata": {
    "collapsed": false,
    "pycharm": {
     "name": "#%% md\n"
    }
   }
  },
  {
   "cell_type": "code",
   "source": [
    "#loads json\n",
    "def load_json(file_name):\n",
    "    with open(file_name) as file:\n",
    "        data = json.load(file)\n",
    "        return data\n",
    "\n",
    "\n",
    "#saves to json\n",
    "def save_to_json(data,file_name):\n",
    "    with open(file_name,\"w\",encoding='utf-8') as file:\n",
    "        json.dump(data,file)\n",
    "\n",
    "\n",
    "#saves to csv\n",
    "def save_to_csv(df,file_name):\n",
    "    df.to_csv(file_name)\n",
    "\n",
    "\n",
    "#loads from csv\n",
    "def load_csv(file_name):\n",
    "    return pd.read_csv(file_name,index_col=0)\n",
    "\n",
    "\n",
    "#merges 2 dictionaries and returns a combined obw\n",
    "def merge_dicts(dict1,dict2):\n",
    "    dict3 = {**dict1,**dict2}\n",
    "    return dict3\n",
    "\n",
    "\n",
    "#loads 2 dataframes, combines them, returns and saves the combined df\n",
    "def load_merge_save_df(file_name1,file_name2,new_file):\n",
    "    df1 = load_csv(file_name1)\n",
    "    df2 = load_csv(file_name2)\n",
    "    df3 = df1.append(df2)\n",
    "    df3.drop_duplicates(inplace=True)\n",
    "    save_to_csv(df3,new_file)\n",
    "    return df3\n",
    "\n",
    "\n",
    "#loads and merges 2 dataframes\n",
    "def load_merge_df(df1,file_name2):\n",
    "    print(type(df1))\n",
    "    df2 = load_csv(file_name2)\n",
    "    df3 = df1.append(df2)\n",
    "    return df3.drop_duplicates()\n",
    "\n",
    "\n",
    "#gets a list of csv file names and combines them to a new csv file\n",
    "def load_merge_save_list_csv(file_names,new_file):\n",
    "    df1 = load_csv(file_names[0])\n",
    "    for file in file_names:\n",
    "        df1 = load_merge_df(df1,file)\n",
    "    save_to_csv(df1,new_file)"
   ],
   "metadata": {
    "collapsed": false,
    "pycharm": {
     "name": "#%%\n"
    }
   },
   "execution_count": null,
   "outputs": []
  },
  {
   "cell_type": "markdown",
   "source": [
    "creating a dictionary that will store all watched movies"
   ],
   "metadata": {
    "collapsed": false,
    "pycharm": {
     "name": "#%% md\n"
    }
   }
  },
  {
   "cell_type": "code",
   "execution_count": null,
   "outputs": [],
   "source": [
    "movie_att_dict = {}"
   ],
   "metadata": {
    "collapsed": false,
    "pycharm": {
     "name": "#%%\n"
    }
   }
  },
  {
   "cell_type": "markdown",
   "source": [
    "now we will name all of the columns"
   ],
   "metadata": {
    "collapsed": false,
    "pycharm": {
     "name": "#%% md\n"
    }
   }
  },
  {
   "cell_type": "code",
   "execution_count": null,
   "outputs": [],
   "source": [
    "Genres_names = [\"Action\", \"Adventure\", \"Animation\", \"Comedy\", \"Crime\",\n",
    "                \"Documentary\", \"Drama\", \"Family\", \"Fantasy\", \"History\",\n",
    "                \"Horror\", \"Music\", \"Mystery\", \"Romance\", \"Science-Fiction\",\n",
    "                \"Thriller\", \"Tv-Movie\", \"War\", \"Western\"]\n",
    "user_url =[\"user_url\"]\n",
    "langs = [\"English\",\"Spanish\",\"Portuguese\",\"Japanese\",\"Italian\",\"German\",\"Russian\",\"Arabic\",]\n",
    "countries = [\"USA\", \"Canada\", \"Australia\", \"UK\",\"France\",\"Japan\",\"Brazil\",\"Spain\",\"Italy\",\"Germany\"]\n",
    "f_movies = [\"favourite 1\",\"favourite 2\",\"favourite 3\",\"favourite 4\"]\n",
    "cast_and_crew = [\"favourite director\",\"favourite actor\"]\n",
    "movie_numbers = [\"movies watched\", \"high rated movies\"]\n",
    "years = [\"first\", \"last\"]\n",
    "rating = [\"★★★★★\",\"★★★★½\",\"★★★★\",\"★★★½\"]\n",
    "colms =  user_url + f_movies+Genres_names+langs+countries+years+rating+movie_numbers"
   ],
   "metadata": {
    "collapsed": false,
    "pycharm": {
     "name": "#%%\n"
    }
   }
  },
  {
   "cell_type": "markdown",
   "source": [
    "popular collecting of movies to collect user samples:"
   ],
   "metadata": {
    "collapsed": false,
    "pycharm": {
     "name": "#%% md\n"
    }
   }
  },
  {
   "cell_type": "code",
   "source": [
    "t=\"https://letterboxd.com/films/genre/\"\n",
    "genres_link = {\n",
    "    \"Action\":t+\"action/size/small/\",\n",
    "    \"Adventure\":t+\"adventure/size/small/\",\n",
    "    \"Animation\":t+\"animation/size/small/\",\n",
    "    \"Comedy\":t+\"comedy/size/small/\",\n",
    "    \"Crime\":t+\"crime/size/small/\",\n",
    "    \"Documentary\":t+\"documentary/size/small/\",\n",
    "    \"Drama\":t+\"drama/size/small/\",\n",
    "    \"Family\":t+\"family/size/small/\",\n",
    "    \"Fantasy\":t+\"fantasy/size/small/\",\n",
    "    \"History\":t+\"history/size/small/\",\n",
    "    \"Horror\":t+\"horror/size/small/\",\n",
    "    \"Music\":t+\"music/size/small/\",\n",
    "    \"Mystery\":t+\"mystery/size/small/\",\n",
    "    \"Romance\":t+\"romance/size/small/\",\n",
    "    \"Science Fiction\":t+\"science-fiction/size/small/\",\n",
    "    \"Thriller\":t+\"thriller/size/small/\",\n",
    "    \"TV Movie\":t+\"tv-movie/size/small/\",\n",
    "    \"War\":t+\"war/size/small/\",\n",
    "    \"Western\":t+\"western/size/small/\"\n",
    "}\n",
    "def get_frames_and_urls(driver,genre_link):\n",
    "    driver.get(genre_link)\n",
    "    ul = driver.find_elements_by_tag_name(\"ul\")[2]\n",
    "    a_list = (ul.find_elements_by_tag_name('span'))\n",
    "    frame_names = []\n",
    "    for counter,li in enumerate(a_list):\n",
    "        if(counter%2 == 0):\n",
    "            frame_names.append(li.get_attribute(\"textContent\"))\n",
    "\n",
    "    urls = [url.get_attribute(\"href\") for url in ul.find_elements_by_tag_name(\"a\")]\n",
    "    time.sleep(0.5)\n",
    "    return frame_names,urls"
   ],
   "metadata": {
    "collapsed": false,
    "pycharm": {
     "name": "#%%\n"
    }
   },
   "execution_count": null,
   "outputs": []
  },
  {
   "cell_type": "code",
   "execution_count": null,
   "outputs": [],
   "source": [
    "browser= webdriver.Chrome()\n",
    "list_ = list(genres_link.values())\n",
    "all_genres_links = []\n",
    "for link in list_:\n",
    "    print(link)\n",
    "    frame_list,link_list = get_frames_and_urls(browser, link)\n",
    "    all_genres_links.extend(link_list)\n",
    "    time.sleep(0.5)"
   ],
   "metadata": {
    "collapsed": false,
    "pycharm": {
     "name": "#%%\n"
    }
   }
  },
  {
   "cell_type": "markdown",
   "source": [
    "from those movies we will now collect the user sample using beautiful soup"
   ],
   "metadata": {
    "collapsed": false,
    "pycharm": {
     "name": "#%% md\n"
    }
   }
  },
  {
   "cell_type": "code",
   "execution_count": null,
   "outputs": [],
   "source": [
    "members = set()\n",
    "for counter,movie in enumerate(all_genres_links):\n",
    "    request = req.get(f'{movie}/ratings/')\n",
    "    html_page = request.text\n",
    "    bs = bs4.BeautifulSoup(html_page,'html.parser')\n",
    "    a_list = bs.find(\"ul\",class_ = \"avatar-list -a40 -cols16\").find_all('a',href=True)\n",
    "    for i,a in enumerate(a_list):\n",
    "        members.add(a_list[i][\"href\"])\n",
    "\n",
    "    print(f'{counter+1}:843')\n",
    "with open('members.csv','w') as f:\n",
    "    for member in members:\n",
    "        f.write('%s,' % member)"
   ],
   "metadata": {
    "collapsed": false,
    "pycharm": {
     "name": "#%%\n"
    }
   }
  },
  {
   "cell_type": "markdown",
   "source": [
    "we collected 500 users from each which translated to almost 200k users so obviously we had to use a small sample of the users"
   ],
   "metadata": {
    "collapsed": false,
    "pycharm": {
     "name": "#%% md\n"
    }
   }
  },
  {
   "cell_type": "markdown",
   "source": [
    "crawling functions:\n",
    "movie_crawl_attr - takes relevant data from each movie\n",
    "user_scan - scans user reviewed movies and returns values for the relevant categories\n",
    "user_info - gets each users URL and returns a df row containing the users relevant data"
   ],
   "metadata": {
    "collapsed": false,
    "pycharm": {
     "name": "#%% md\n"
    }
   }
  },
  {
   "cell_type": "code",
   "execution_count": null,
   "outputs": [],
   "source": [
    "def movie_crawl_attr(driver1, frame_title,url):\n",
    "    try:\n",
    "        return movie_att_dict[frame_title]\n",
    "    except KeyError:\n",
    "        driver1.get(url)\n",
    "        time.sleep(2)\n",
    "        driver1.execute_script(\"window.scrollBy(0,750)\")\n",
    "        xpath_list = ['//*[@id=\"tab-cast\"]/div/p/a[1]','//*[@id=\"tab-details\"]/h3','//*[@id=\"tab-genres\"]/div']\n",
    "        new_dict = {}\n",
    "        categories = []\n",
    "        runs = len(driver1.find_elements(By.XPATH,'//*[@id=\"tabbed-content\"]/header/ul/li'))\n",
    "        for i in range(1,5):\n",
    "            if i > runs:\n",
    "                break\n",
    "            elem = WebDriverWait(driver1,10).until(EC.element_to_be_clickable((By.XPATH,f'//*[@id=\"tabbed-content\"]/header/ul/li[{i}]/a')))\n",
    "            elem.click()\n",
    "            category = elem.get_attribute(\"textContent\")\n",
    "            categories.append(category)\n",
    "            if(category == \"Cast\"):#cast\n",
    "                try:\n",
    "                    new_dict[\"leading_actor\"]=WebDriverWait(driver1,10).until(EC.visibility_of_element_located((By.XPATH,xpath_list[0]))).text\n",
    "                except:\n",
    "                    new_dict[\"leading_actor\"]=''\n",
    "            elif(category == \"Crew\"): #crew\n",
    "                pass\n",
    "            elif(category == \"Details\"): #details\n",
    "                tabs = driver1.find_elements(By.XPATH,xpath_list[1])\n",
    "                for j,tab in enumerate(tabs):\n",
    "                    if tab.get_attribute(\"textContent\")==\"Country\" or tab.get_attribute(\"textContent\") == \"Countries\":\n",
    "                        list_l=WebDriverWait(driver1,10).until(EC.presence_of_element_located((By.XPATH,f'//*[@id=\"tab-details\"]/div[{j+1}]/p')))\n",
    "                        new_dict[\"country\"]= [l.text for l in list_l.find_elements_by_tag_name(\"a\")]\n",
    "                    elif tab.get_attribute(\"textContent\")==\"Language\" or tab.get_attribute(\"textContent\")==\"Languages\":\n",
    "                        list_l=WebDriverWait(driver1,10).until(EC.presence_of_element_located((By.XPATH,f'//*[@id=\"tab-details\"]/div[{j+1}]/p')))\n",
    "                        new_dict[\"language\"]= [l.text for l in list_l.find_elements_by_tag_name(\"a\")]\n",
    "                here = [h.get_attribute(\"textContent\") for h in tabs]\n",
    "                if \"Countries\" not in here and \"Country\" not in here:\n",
    "                    new_dict[\"country\"]=[]\n",
    "                if \"Languages\" not in here and \"Language\" not in here:\n",
    "                    new_dict[\"language\"]=[]\n",
    "            elif(category == \"Genres\" or category == \"Genre\"):#genres\n",
    "                try:\n",
    "                    list_l=WebDriverWait(driver1,10).until(EC.presence_of_element_located( (By.XPATH,xpath_list[2])))\n",
    "                    new_dict[\"genres\"]=[l.text for l in list_l.find_elements_by_tag_name(\"a\")]\n",
    "                except:\n",
    "                    new_dict[\"genres\"]=[]\n",
    "                break\n",
    "        if len(categories) < 4:\n",
    "            if len(categories) == 3 and \"Crew\" not in categories:\n",
    "                pass\n",
    "            else:\n",
    "                if \"Cast\" not in categories:\n",
    "                    new_dict[\"leading_actor\"]=''\n",
    "                if \"Details\" not in categories:\n",
    "                    new_dict[\"country\"]=[]\n",
    "                    new_dict[\"language\"]=[]\n",
    "                if \"Genres\" not in categories and \"Genre\" not in categories:\n",
    "                    new_dict[\"genres\"] = []\n",
    "        else:\n",
    "            pass\n",
    "        p = driver1.find_element_by_xpath('//*[@id=\"featured-film-header\"]/p')\n",
    "        list_a = p.find_elements_by_tag_name('a')\n",
    "        try:\n",
    "            new_dict['director'] = list_a[1].text\n",
    "        except:\n",
    "            new_dict['director'] = \"\"\n",
    "        new_dict['year'] = int(list_a[0].text)\n",
    "        # adding new movie attributes dicts to the main dict\n",
    "        movie_att_dict[frame_title] = new_dict\n",
    "        return  new_dict"
   ],
   "metadata": {
    "collapsed": false,
    "pycharm": {
     "name": "#%%\n"
    }
   }
  },
  {
   "cell_type": "code",
   "execution_count": null,
   "outputs": [],
   "source": [
    "def user_scan(driver,url):\n",
    "    genre_dict = {gnr: 0 for gnr in Genres_names }\n",
    "    lang_dict = {lng: 0 for lng in langs}\n",
    "    countries_dict = {cntr:0 for cntr in countries}\n",
    "    leading_actors = {}\n",
    "    directors = {}\n",
    "    num_of_high_rated = 0\n",
    "    year_list = []\n",
    "    name_link_dict,rating_dict = user_movies(driver,url)\n",
    "    for name in name_link_dict.keys():\n",
    "        movie_release =int(name[len(name)-5:len(name)-1])\n",
    "        if movie_release >= 1948:\n",
    "            this_movie = movie_crawl_attr(driver, name,name_link_dict[name])\n",
    "            if len(movie_att_dict[name][\"language\"]) > 0 and movie_att_dict[name][\"language\"] == '':\n",
    "                while len(movie_att_dict[name][\"language\"]) > 0 and movie_att_dict[name][\"language\"] == '':\n",
    "                    del(movie_att_dict[name])\n",
    "            year_list.append(movie_release)\n",
    "            for l in this_movie[\"language\"]:\n",
    "                try:\n",
    "                    lang_dict[l]+=1\n",
    "                except KeyError:\n",
    "                    pass\n",
    "            for c in this_movie[\"country\"]:\n",
    "                try:\n",
    "                    countries_dict[c]+=1\n",
    "                except KeyError:\n",
    "                    pass\n",
    "            for g in this_movie[\"genres\"]:\n",
    "                genre_dict[g]+=1\n",
    "            try:\n",
    "                leading_actors[this_movie[\"leading_actor\"]]+=1\n",
    "            except KeyError:\n",
    "                leading_actors[this_movie[\"leading_actor\"]]=1\n",
    "            try:\n",
    "                directors[this_movie[\"director\"]]+=1\n",
    "            except KeyError:\n",
    "                directors[this_movie[\"director\"]]=1\n",
    "            num_of_high_rated+=1\n",
    "            year_list.append(this_movie[\"year\"])\n",
    "        else:\n",
    "            pass\n",
    "    year_max = max(year_list)\n",
    "    year_min = min(year_list)\n",
    "    year_mean = st.mean(year_list)\n",
    "    year_mid = st.median(year_list)\n",
    "    fav_actor = max(leading_actors.items(),key = operator.itemgetter(1))\n",
    "    fav_director = max(directors.items(),key = operator.itemgetter(1))\n",
    "    return genre_dict, lang_dict, countries_dict, num_of_high_rated, year_max, year_min, year_mean, year_mid, fav_actor, fav_director, rating_dict"
   ],
   "metadata": {
    "collapsed": false,
    "pycharm": {
     "name": "#%%\n"
    }
   }
  },
  {
   "cell_type": "code",
   "execution_count": null,
   "outputs": [],
   "source": [
    "def user_info(driver, user_url):\n",
    "    url = f\"https://letterboxd.com{user_url}\"\n",
    "    driver.get(url)\n",
    "    user_v = pd.DataFrame(index=[driver.find_element_by_class_name(\"title-1\").get_attribute(\"textContent\")],columns=colms)\n",
    "    user_v[\"user_url\"] = user_url\n",
    "    user_v[\"movies watched\"]= int(driver.find_element_by_class_name(\"value\").get_attribute(\"textContent\").replace(',',''))\n",
    "    try:\n",
    "        favs = driver.find_element_by_id(\"favourites\")\n",
    "        for number , mover in enumerate(favs.find_elements_by_class_name(\"frame-title\")):\n",
    "            user_v[f\"favourite {number+1}\"] = mover.get_attribute(\"textContent\")\n",
    "    except:\n",
    "        for number in range(4):\n",
    "            user_v[f\"favourite {number+1}\"] = \"\"\n",
    "    flag = 1\n",
    "    while flag == 1:\n",
    "        try:\n",
    "            genre_dict, lang_dict, countries_dict, num_of_high_rated, year_max, year_min, year_mean, year_mid, fav_actor, fav_director, rating_dict =user_scan(driver,f'{url}films/ratings/by/entry-rating/')\n",
    "            flag = 0\n",
    "        except ValueError:\n",
    "            pass\n",
    "\n",
    "    for key in genre_dict.keys():\n",
    "        user_v[key]=genre_dict[key]\n",
    "    for key in lang_dict:\n",
    "        user_v[key]= lang_dict[key]\n",
    "    for key in countries_dict.keys():\n",
    "        user_v[key] = countries_dict[key]\n",
    "    for key in rating_dict:\n",
    "        user_v[key] = rating_dict[key]\n",
    "    user_v[\"first\"] = year_min\n",
    "    user_v[\"last\"] = year_max\n",
    "    user_v[\"mean\"] = year_mean\n",
    "    user_v[\"mid\"] = year_mid\n",
    "    user_v[\"high rated movies\"]= num_of_high_rated\n",
    "    return user_v"
   ],
   "metadata": {
    "collapsed": false,
    "pycharm": {
     "name": "#%%\n"
    }
   }
  },
  {
   "cell_type": "code",
   "execution_count": null,
   "outputs": [],
   "source": [
    "def user_movies(driver,url):\n",
    "    flag = 1\n",
    "    driver.get(url)\n",
    "    links_names = {}\n",
    "    rating_dict = {}\n",
    "    flag2 = 1\n",
    "    while flag == 1:\n",
    "        next_list = driver.find_elements_by_class_name(\"next\")\n",
    "        if next_list == []:\n",
    "            flag = 0\n",
    "        else:\n",
    "            next_link = next_list[0].get_attribute(\"href\")\n",
    "            if not next_link:\n",
    "                flag = 0\n",
    "        try:\n",
    "            frames_list =  driver.find_element(By.XPATH,'//*[@id=\"content\"]/div/div/section/ul')\n",
    "            frame_links = [a.get_attribute(\"href\") for a in frames_list.find_elements_by_tag_name('a')]\n",
    "            frame_names = [fn.get_attribute(\"textContent\") for fn in driver.find_elements_by_class_name(\"frame-title\")]\n",
    "            frame_rates = [rate.find_element(By.TAG_NAME,\"span\").get_attribute(\"textContent\").strip() for rate in driver.find_elements(By.CLASS_NAME,\"poster-viewingdata\")]\n",
    "            flag2 = 1\n",
    "        except:\n",
    "            flag2 = 0\n",
    "\n",
    "        if flag2 == 1:\n",
    "            for name,link,rate in zip(frame_names,frame_links,frame_rates):\n",
    "                if len(rate)>3:#getting the nuber of stras for this movie\n",
    "                    links_names[name] = link\n",
    "                    try:\n",
    "                        rating_dict[rate]+=1\n",
    "                    except KeyError:\n",
    "                        rating_dict[rate] = 1\n",
    "                    #print(name.get_attribute(\"textContent\"))\n",
    "                else:\n",
    "                    flag = 0\n",
    "                    break\n",
    "        else:\n",
    "            pass\n",
    "        if flag == 1 and flag2 == 0:\n",
    "            driver.find_element_by_tag_name('body').send_keys(Keys.COMMAND + 'r')\n",
    "            flag2 = 1\n",
    "        elif flag == 1 and flag2 == 1:\n",
    "            driver.get(next_link)\n",
    "        else:\n",
    "            return links_names, rating_dict"
   ],
   "metadata": {
    "collapsed": false,
    "pycharm": {
     "name": "#%%\n"
    }
   }
  },
  {
   "cell_type": "markdown",
   "source": [
    "open_driver - opens a new chrome driver and automatically downloads wanted cookies and adblock"
   ],
   "metadata": {
    "collapsed": false,
    "pycharm": {
     "name": "#%% md\n"
    }
   }
  },
  {
   "cell_type": "code",
   "execution_count": null,
   "outputs": [],
   "source": [
    "def open_driver():\n",
    "    #was done with the help of youtube channel Computing HUB\n",
    "    #https://www.youtube.com/watch?v=Fx1hbZMVS7k\n",
    "    ops = CromeOptions()\n",
    "    ops.add_extension(\"adblock.crx\")\n",
    "    browser = webdriver.Chrome(options = ops)\n",
    "    time.sleep(5)\n",
    "    ##close new tab\n",
    "    browser.switch_to.window(browser.window_handles[1])\n",
    "    browser.close()\n",
    "    browser.switch_to.window(browser.window_handles[0])\n",
    "    browser.get(\"https://letterboxd.com/\")\n",
    "    cookies = pickle.load(open(\"cookies2.pkl\", \"rb\"))\n",
    "    browser.maximize_window()\n",
    "    for cookie in cookies:\n",
    "        browser.add_cookie(cookie)\n",
    "    return browser"
   ],
   "metadata": {
    "collapsed": false,
    "pycharm": {
     "name": "#%%\n"
    }
   }
  },
  {
   "cell_type": "markdown",
   "source": [
    "creates new df to add"
   ],
   "metadata": {
    "collapsed": false,
    "pycharm": {
     "name": "#%% md\n"
    }
   }
  },
  {
   "cell_type": "code",
   "execution_count": null,
   "outputs": [],
   "source": [
    "df = pd.DataFrame(index=[],columns=colms)"
   ],
   "metadata": {
    "collapsed": false,
    "pycharm": {
     "name": "#%%\n"
    }
   }
  },
  {
   "cell_type": "markdown",
   "source": [
    "this is where the magic happens, this is the crawling block, here we go from one user to another, save their data in a our dataframe and save our progress once every 50 users, better safe then sorry!"
   ],
   "metadata": {
    "collapsed": false,
    "pycharm": {
     "name": "#%% md\n"
    }
   }
  },
  {
   "cell_type": "code",
   "execution_count": null,
   "outputs": [],
   "source": [
    "browser = open_driver()\n",
    "for i, mem in enumerate(members):\n",
    "    if i % 50 == 0:\n",
    "        save_to_csv(df,f\"df_{i}.csv\")\n",
    "        save_to_json(movie_att_dict,f\"movies_{i}.json\")\n",
    "    if req.get(f\"https://letterboxd.com{mem}\").status_code != 404:\n",
    "        t_df = user_info(browser, mem)\n",
    "        df = df.append(t_df)\n",
    "    else:\n",
    "        pass\n",
    "    print(f\"{i} done! {mem}\")"
   ],
   "metadata": {
    "collapsed": false,
    "pycharm": {
     "name": "#%%\n"
    }
   }
  },
  {
   "cell_type": "markdown",
   "source": [
    "that's it! now we can go on to the preprocessing and machine learning"
   ],
   "metadata": {
    "collapsed": false,
    "pycharm": {
     "name": "#%% md\n"
    }
   }
  }
 ],
 "metadata": {
  "kernelspec": {
   "display_name": "Python 3",
   "language": "python",
   "name": "python3"
  },
  "language_info": {
   "codemirror_mode": {
    "name": "ipython",
    "version": 2
   },
   "file_extension": ".py",
   "mimetype": "text/x-python",
   "name": "python",
   "nbconvert_exporter": "python",
   "pygments_lexer": "ipython2",
   "version": "2.7.6"
  }
 },
 "nbformat": 4,
 "nbformat_minor": 0
}